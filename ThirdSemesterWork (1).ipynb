{
 "cells": [
  {
   "cell_type": "code",
   "execution_count": 1,
   "id": "f69b1eaa",
   "metadata": {},
   "outputs": [
    {
     "name": "stdout",
     "output_type": "stream",
     "text": [
      "True\n"
     ]
    }
   ],
   "source": [
    "a=100\n",
    "b=99+1\n",
    "print(a is b)"
   ]
  },
  {
   "cell_type": "code",
   "execution_count": 3,
   "id": "2d1d487d",
   "metadata": {},
   "outputs": [
    {
     "name": "stdout",
     "output_type": "stream",
     "text": [
      "True\n",
      "2973628257744\n",
      "2973628257744\n"
     ]
    }
   ],
   "source": [
    "a=100\n",
    "b=99+1\n",
    "print(a == b)\n",
    "print(ia=100\n",
    "d(a))\n",
    "print(id(b))"
   ]
  },
  {
   "cell_type": "code",
   "execution_count": 8,
   "id": "9193957c",
   "metadata": {},
   "outputs": [
    {
     "name": "stdout",
     "output_type": "stream",
     "text": [
      "Enter the first number:3\n",
      "Enter the second number:5\n",
      "35\n"
     ]
    }
   ],
   "source": [
    "#CONCATENATE THE NUMBERS\n",
    "a = input(\"Enter the first number:\")\n",
    "b = input(\"Enter the second number:\")\n",
    "print(a+b)"
   ]
  },
  {
   "cell_type": "code",
   "execution_count": 13,
   "id": "beada506",
   "metadata": {},
   "outputs": [
    {
     "name": "stdout",
     "output_type": "stream",
     "text": [
      "Enter year:2002\n",
      "2002 is not a leap year\n"
     ]
    }
   ],
   "source": [
    "#IF-ELSE USE\n",
    "y = int(input(\"Enter year:\"))\n",
    "if y % 4 == 0 and  y % 100 != 0 or y % 400 == 0 :\n",
    "   print(y,\"is a leap year\")\n",
    "else:\n",
    "   print(y,\"is not a leap year\")"
   ]
  },
  {
   "cell_type": "code",
   "execution_count": 14,
   "id": "0c76112f",
   "metadata": {},
   "outputs": [
    {
     "name": "stdout",
     "output_type": "stream",
     "text": [
      "Enter the first number:23\n",
      "Enter the second number:34\n",
      "Swap values are a =  34 and b = 23\n"
     ]
    }
   ],
   "source": [
    "#Swapping\n",
    "a = int(input(\"Enter the first number:\"))\n",
    "b = int(input(\"Enter the second number:\"))\n",
    "temp = a\n",
    "a = b\n",
    "b = temp\n",
    "print(\"Swap values are a = \",a,\"and b =\",b)"
   ]
  },
  {
   "cell_type": "code",
   "execution_count": 15,
   "id": "9ae63b82",
   "metadata": {},
   "outputs": [
    {
     "name": "stdout",
     "output_type": "stream",
     "text": [
      "Enter a numbr:23\n"
     ]
    }
   ],
   "source": [
    "a = int(input(\"Enter a numbr:\"))"
   ]
  },
  {
   "cell_type": "code",
   "execution_count": 18,
   "id": "6e4f58c0",
   "metadata": {},
   "outputs": [
    {
     "name": "stdout",
     "output_type": "stream",
     "text": [
      "Enter a number:5\n",
      "Factorial is: 1\n",
      "Factorial is: 2\n",
      "Factorial is: 6\n",
      "Factorial is: 24\n",
      "Factorial is: 120\n"
     ]
    }
   ],
   "source": [
    "#Factorial\n",
    "a = int(input(\"Enter a number:\"))\n",
    "f = 1\n",
    "for i in range(1,a+1):\n",
    "    f*=i\n",
    "    print(\"Factorial is:\",f)"
   ]
  },
  {
   "cell_type": "code",
   "execution_count": 24,
   "id": "2dd3b491",
   "metadata": {},
   "outputs": [
    {
     "name": "stdout",
     "output_type": "stream",
     "text": [
      "Enter a number:7\n",
      "7 is prime\n",
      "7 is prime\n",
      "7 is prime\n",
      "7 is prime\n",
      "7 is prime\n"
     ]
    }
   ],
   "source": [
    "#prime or not\n",
    "b = int(input(\"Enter a number:\"))\n",
    "for i in range(2,b):\n",
    "    if b % i == 0:\n",
    "        print(b,\"is not prime\")\n",
    "        break\n",
    "    else:\n",
    "        print(b,\"is prime\")\n",
    "        "
   ]
  },
  {
   "cell_type": "code",
   "execution_count": 26,
   "id": "f79b497e",
   "metadata": {},
   "outputs": [
    {
     "name": "stdout",
     "output_type": "stream",
     "text": [
      "Enter the first number:5\n",
      "Enter the second number:4\n",
      "5 x 4 = 20\n",
      "4 x 3 = 12\n",
      "3 x 2 = 6\n",
      "2 x 1 = 2\n"
     ]
    }
   ],
   "source": [
    "#PARALLEL MULTIPLICATION TABLE \n",
    "a = int(input(\"Enter the first number:\"))\n",
    "b = int(input(\"Enter the second number:\"))\n",
    "while(a and b) > 0:\n",
    "    print(a,\"x\",b,\"=\",a*b)\n",
    "    a -= 1 #a=a-1\n",
    "    b -= 1 #b=b-1\n",
    "    "
   ]
  },
  {
   "cell_type": "code",
   "execution_count": 27,
   "id": "1a6dcf34",
   "metadata": {},
   "outputs": [
    {
     "name": "stdout",
     "output_type": "stream",
     "text": [
      "Enter the first number:1\n",
      "Enter the second number:1\n",
      "Enter the number upto which you want the series:12\n",
      "1 2 3 5 8 13 21 34 55 89 144 "
     ]
    }
   ],
   "source": [
    "a = int(input(\"Enter the first number:\"))\n",
    "b = int(input(\"Enter the second number:\"))\n",
    "n = int(input(\"Enter the number upto which you want the series:\"))\n",
    "for i in range(2,n+1):\n",
    "    a,b = b,a + b\n",
    "    print(a,end = ' ')\n"
   ]
  },
  {
   "cell_type": "code",
   "execution_count": 28,
   "id": "46e5f3c1",
   "metadata": {},
   "outputs": [
    {
     "name": "stdout",
     "output_type": "stream",
     "text": [
      "[1]\n",
      "[1, 2]\n",
      "[1, 2, 3]\n",
      "[1, 2, 3, 4]\n",
      "[1, 2, 3, 4, 5]\n"
     ]
    }
   ],
   "source": [
    "a = [1,2,3,4,5]\n",
    "b = []\n",
    "for i in a:\n",
    "    b.append(i)\n",
    "    print(b)"
   ]
  },
  {
   "cell_type": "code",
   "execution_count": 30,
   "id": "1b503317",
   "metadata": {},
   "outputs": [
    {
     "name": "stdout",
     "output_type": "stream",
     "text": [
      "[1, 4, 9, 16, 25]\n"
     ]
    }
   ],
   "source": [
    "a = [1,2,3,4,5]\n",
    "b = []\n",
    "for i in a:\n",
    "    b.append(i**2)\n",
    "print(b)"
   ]
  },
  {
   "cell_type": "code",
   "execution_count": 31,
   "id": "8ef75cdd",
   "metadata": {},
   "outputs": [
    {
     "name": "stdout",
     "output_type": "stream",
     "text": [
      "[36, 49, 64, 81, 100, 225, 400]\n"
     ]
    }
   ],
   "source": [
    "a = [1,2,3,4,5,6,7,8,9,10,15,20]\n",
    "b = []\n",
    "for i in a:\n",
    "    if i>5:\n",
    "        b.append(i**2)\n",
    "print(b)"
   ]
  },
  {
   "cell_type": "markdown",
   "id": "9bfa5e8f",
   "metadata": {},
   "source": [
    "a = [1,2,3,4,5,6,7,8,9,10,15,20]\n",
    "b = []\n",
    "for i in a:\n",
    "    if i % 5 == 0:\n",
    "        b.append(i**2)\n",
    "    else:\n",
    "        b.append(i)\n",
    "print(b)"
   ]
  },
  {
   "cell_type": "code",
   "execution_count": 33,
   "id": "f5eaa118",
   "metadata": {},
   "outputs": [
    {
     "name": "stdout",
     "output_type": "stream",
     "text": [
      "[10, 20]\n"
     ]
    }
   ],
   "source": [
    "a = [1,2,3,4,5,6,7,8,9,10,15,20]\n",
    "b = []\n",
    "for i in a:\n",
    "    if i % 5 == 0 and i % 2 == 0:\n",
    "        b.append(i)\n",
    "print(b)"
   ]
  },
  {
   "cell_type": "markdown",
   "id": "9573feec",
   "metadata": {},
   "source": [
    "# List Comprehension"
   ]
  },
  {
   "cell_type": "code",
   "execution_count": 34,
   "id": "62bc4ac1",
   "metadata": {},
   "outputs": [
    {
     "name": "stdout",
     "output_type": "stream",
     "text": [
      "[1, 2, 3, 4, 5]\n"
     ]
    }
   ],
   "source": [
    "a = [1,2,3,4,5]\n",
    "b = [i for i in a]\n",
    "print(b)"
   ]
  },
  {
   "cell_type": "code",
   "execution_count": 36,
   "id": "81438c43",
   "metadata": {},
   "outputs": [
    {
     "name": "stdout",
     "output_type": "stream",
     "text": [
      "[10, 20]\n"
     ]
    }
   ],
   "source": [
    "a = [1,2,3,4,5,6,7,8,9,10,15,20]\n",
    "b = [i for i in a if i % 5 == 0 and i % 2 == 0]\n",
    "print(b)"
   ]
  },
  {
   "cell_type": "code",
   "execution_count": 37,
   "id": "1b17ccd8",
   "metadata": {},
   "outputs": [
    {
     "name": "stdout",
     "output_type": "stream",
     "text": [
      "[6, 7, 8, 9, 10, 15, 20]\n"
     ]
    }
   ],
   "source": [
    "a = [1,2,3,4,5,6,7,8,9,10,15,20]\n",
    "b = [i for i in a if i > 5]\n",
    "print(b)"
   ]
  },
  {
   "cell_type": "code",
   "execution_count": 38,
   "id": "c6832482",
   "metadata": {},
   "outputs": [
    {
     "name": "stdout",
     "output_type": "stream",
     "text": [
      "[1, 2, 3, 4, 25, 6, 7, 8, 9, 100, 225, 400]\n"
     ]
    }
   ],
   "source": [
    "a = [1,2,3,4,5,6,7,8,9,10,15,20]\n",
    "b = [i**2 if i % 5 == 0 else i for i in a]\n",
    "print(b)"
   ]
  },
  {
   "cell_type": "markdown",
   "id": "6c2f6461",
   "metadata": {},
   "source": [
    "# Tuples"
   ]
  },
  {
   "cell_type": "code",
   "execution_count": 39,
   "id": "88415755",
   "metadata": {},
   "outputs": [
    {
     "name": "stdout",
     "output_type": "stream",
     "text": [
      "(1, 2, 3, 4, 5, 6, 7)\n"
     ]
    }
   ],
   "source": [
    "a = (1,2,3,4,5,6,7)\n",
    "print(a)"
   ]
  },
  {
   "cell_type": "code",
   "execution_count": 41,
   "id": "1c4468e4",
   "metadata": {},
   "outputs": [
    {
     "name": "stdout",
     "output_type": "stream",
     "text": [
      "(1, 2, 3, 4, 5, 6, 7)\n"
     ]
    },
    {
     "ename": "AttributeError",
     "evalue": "'tuple' object has no attribute 'remove'",
     "output_type": "error",
     "traceback": [
      "\u001b[1;31m---------------------------------------------------------------------------\u001b[0m",
      "\u001b[1;31mAttributeError\u001b[0m                            Traceback (most recent call last)",
      "\u001b[1;32m~\\AppData\\Local\\Temp/ipykernel_3860/787953482.py\u001b[0m in \u001b[0;36m<module>\u001b[1;34m\u001b[0m\n\u001b[0;32m      1\u001b[0m \u001b[0ma\u001b[0m \u001b[1;33m=\u001b[0m \u001b[1;33m(\u001b[0m\u001b[1;36m1\u001b[0m\u001b[1;33m,\u001b[0m\u001b[1;36m2\u001b[0m\u001b[1;33m,\u001b[0m\u001b[1;36m3\u001b[0m\u001b[1;33m,\u001b[0m\u001b[1;36m4\u001b[0m\u001b[1;33m,\u001b[0m\u001b[1;36m5\u001b[0m\u001b[1;33m,\u001b[0m\u001b[1;36m6\u001b[0m\u001b[1;33m,\u001b[0m\u001b[1;36m7\u001b[0m\u001b[1;33m)\u001b[0m\u001b[1;33m\u001b[0m\u001b[1;33m\u001b[0m\u001b[0m\n\u001b[0;32m      2\u001b[0m \u001b[0mprint\u001b[0m\u001b[1;33m(\u001b[0m\u001b[0ma\u001b[0m\u001b[1;33m)\u001b[0m\u001b[1;33m\u001b[0m\u001b[1;33m\u001b[0m\u001b[0m\n\u001b[1;32m----> 3\u001b[1;33m \u001b[0ma\u001b[0m\u001b[1;33m.\u001b[0m\u001b[0mremove\u001b[0m\u001b[1;33m(\u001b[0m\u001b[1;36m4\u001b[0m\u001b[1;33m)\u001b[0m\u001b[1;33m\u001b[0m\u001b[1;33m\u001b[0m\u001b[0m\n\u001b[0m",
      "\u001b[1;31mAttributeError\u001b[0m: 'tuple' object has no attribute 'remove'"
     ]
    }
   ],
   "source": [
    "a = (1,2,3,4,5,6,7)\n",
    "print(a)\n",
    "a.remove(a)"
   ]
  },
  {
   "cell_type": "code",
   "execution_count": 42,
   "id": "e49fae8b",
   "metadata": {},
   "outputs": [
    {
     "name": "stdout",
     "output_type": "stream",
     "text": [
      "(1, 2, 3, 4)\n",
      "<class 'tuple'>\n"
     ]
    }
   ],
   "source": [
    "a = 1,2,3,4\n",
    "print(a)\n",
    "print(type(a))\n"
   ]
  },
  {
   "cell_type": "code",
   "execution_count": 43,
   "id": "e3bb23fb",
   "metadata": {},
   "outputs": [
    {
     "name": "stdout",
     "output_type": "stream",
     "text": [
      "<class 'tuple'>\n"
     ]
    }
   ],
   "source": [
    "a = 'python','is','fun'\n",
    "print(type(a))\n"
   ]
  },
  {
   "cell_type": "code",
   "execution_count": 44,
   "id": "4d5f9325",
   "metadata": {},
   "outputs": [
    {
     "name": "stdout",
     "output_type": "stream",
     "text": [
      "<class 'str'>\n"
     ]
    }
   ],
   "source": [
    "a = 'python'\n",
    "print(type(a))"
   ]
  },
  {
   "cell_type": "code",
   "execution_count": 45,
   "id": "2259e4fc",
   "metadata": {},
   "outputs": [
    {
     "name": "stdout",
     "output_type": "stream",
     "text": [
      "<generator object <genexpr> at 0x000002B45EB2ADD0>\n"
     ]
    }
   ],
   "source": [
    "a = [1,2,3,4,5]\n",
    "b = (i for i in a)\n",
    "print(b)"
   ]
  },
  {
   "cell_type": "code",
   "execution_count": 46,
   "id": "4c7a6aa2",
   "metadata": {},
   "outputs": [
    {
     "name": "stdout",
     "output_type": "stream",
     "text": [
      "(1, 2, 3, 4, 5)\n"
     ]
    }
   ],
   "source": [
    "a = [1,2,3,4,5]\n",
    "b = tuple(a)\n",
    "print(b)"
   ]
  },
  {
   "cell_type": "code",
   "execution_count": 47,
   "id": "f4d8a813",
   "metadata": {},
   "outputs": [
    {
     "name": "stdout",
     "output_type": "stream",
     "text": [
      "[1, 2, 3, 4, 5]\n"
     ]
    }
   ],
   "source": [
    "a = [1,2,3,4,5]\n",
    "b = list(a)\n",
    "print(b)\n"
   ]
  },
  {
   "cell_type": "code",
   "execution_count": 50,
   "id": "6b94caa6",
   "metadata": {},
   "outputs": [
    {
     "name": "stdout",
     "output_type": "stream",
     "text": [
      "3.9.7\n"
     ]
    }
   ],
   "source": [
    "from platform import python_version\n",
    "print(python_version())"
   ]
  },
  {
   "cell_type": "code",
   "execution_count": 53,
   "id": "9c92a13c",
   "metadata": {},
   "outputs": [
    {
     "name": "stderr",
     "output_type": "stream",
     "text": [
      "WARNING: Retrying (Retry(total=4, connect=None, read=None, redirect=None, status=None)) after connection broken by 'NewConnectionError('<pip._vendor.urllib3.connection.HTTPSConnection object at 0x000002C5FC29A490>: Failed to establish a new connection: [Errno 11001] getaddrinfo failed')': /simple/abhiprime/\n",
      "WARNING: Retrying (Retry(total=3, connect=None, read=None, redirect=None, status=None)) after connection broken by 'NewConnectionError('<pip._vendor.urllib3.connection.HTTPSConnection object at 0x000002C5FC29A130>: Failed to establish a new connection: [Errno 11001] getaddrinfo failed')': /simple/abhiprime/\n",
      "WARNING: Retrying (Retry(total=2, connect=None, read=None, redirect=None, status=None)) after connection broken by 'NewConnectionError('<pip._vendor.urllib3.connection.HTTPSConnection object at 0x000002C5FC29AA90>: Failed to establish a new connection: [Errno 11001] getaddrinfo failed')': /simple/abhiprime/\n",
      "WARNING: Retrying (Retry(total=1, connect=None, read=None, redirect=None, status=None)) after connection broken by 'NewConnectionError('<pip._vendor.urllib3.connection.HTTPSConnection object at 0x000002C5FC29AC40>: Failed to establish a new connection: [Errno 11001] getaddrinfo failed')': /simple/abhiprime/\n",
      "WARNING: Retrying (Retry(total=0, connect=None, read=None, redirect=None, status=None)) after connection broken by 'NewConnectionError('<pip._vendor.urllib3.connection.HTTPSConnection object at 0x000002C5FC29ADF0>: Failed to establish a new connection: [Errno 11001] getaddrinfo failed')': /simple/abhiprime/\n",
      "ERROR: Could not find a version that satisfies the requirement abhiprime (from versions: none)\n",
      "ERROR: No matching distribution found for abhiprime\n"
     ]
    }
   ],
   "source": [
    "!pip install abhiprime"
   ]
  },
  {
   "cell_type": "code",
   "execution_count": 54,
   "id": "b9d6fce5",
   "metadata": {},
   "outputs": [
    {
     "name": "stderr",
     "output_type": "stream",
     "text": [
      "WARNING: Retrying (Retry(total=4, connect=None, read=None, redirect=None, status=None)) after connection broken by 'NewConnectionError('<pip._vendor.urllib3.connection.HTTPSConnection object at 0x000001B31FD99490>: Failed to establish a new connection: [Errno 11001] getaddrinfo failed')': /simple/abhiprime/\n",
      "WARNING: Retrying (Retry(total=3, connect=None, read=None, redirect=None, status=None)) after connection broken by 'NewConnectionError('<pip._vendor.urllib3.connection.HTTPSConnection object at 0x000001B31FD99130>: Failed to establish a new connection: [Errno 11001] getaddrinfo failed')': /simple/abhiprime/\n",
      "WARNING: Retrying (Retry(total=2, connect=None, read=None, redirect=None, status=None)) after connection broken by 'NewConnectionError('<pip._vendor.urllib3.connection.HTTPSConnection object at 0x000001B31FD99A90>: Failed to establish a new connection: [Errno 11001] getaddrinfo failed')': /simple/abhiprime/\n",
      "WARNING: Retrying (Retry(total=1, connect=None, read=None, redirect=None, status=None)) after connection broken by 'NewConnectionError('<pip._vendor.urllib3.connection.HTTPSConnection object at 0x000001B31FD99C40>: Failed to establish a new connection: [Errno 11001] getaddrinfo failed')': /simple/abhiprime/\n",
      "WARNING: Retrying (Retry(total=0, connect=None, read=None, redirect=None, status=None)) after connection broken by 'NewConnectionError('<pip._vendor.urllib3.connection.HTTPSConnection object at 0x000001B31FD99DF0>: Failed to establish a new connection: [Errno 11001] getaddrinfo failed')': /simple/abhiprime/\n",
      "ERROR: Could not find a version that satisfies the requirement abhiprime (from versions: none)\n",
      "ERROR: No matching distribution found for abhiprime\n"
     ]
    },
    {
     "ename": "ModuleNotFoundError",
     "evalue": "No module named 'abhiprime'",
     "output_type": "error",
     "traceback": [
      "\u001b[1;31m---------------------------------------------------------------------------\u001b[0m",
      "\u001b[1;31mModuleNotFoundError\u001b[0m                       Traceback (most recent call last)",
      "\u001b[1;32m~\\AppData\\Local\\Temp/ipykernel_3860/2815436730.py\u001b[0m in \u001b[0;36m<module>\u001b[1;34m\u001b[0m\n\u001b[0;32m      1\u001b[0m \u001b[0mget_ipython\u001b[0m\u001b[1;33m(\u001b[0m\u001b[1;33m)\u001b[0m\u001b[1;33m.\u001b[0m\u001b[0msystem\u001b[0m\u001b[1;33m(\u001b[0m\u001b[1;34m'pip install abhiprime'\u001b[0m\u001b[1;33m)\u001b[0m\u001b[1;33m\u001b[0m\u001b[1;33m\u001b[0m\u001b[0m\n\u001b[1;32m----> 2\u001b[1;33m \u001b[1;32mimport\u001b[0m \u001b[0mabhiprime\u001b[0m \u001b[1;32mas\u001b[0m \u001b[0map\u001b[0m\u001b[1;33m\u001b[0m\u001b[1;33m\u001b[0m\u001b[0m\n\u001b[0m\u001b[0;32m      3\u001b[0m \u001b[0map\u001b[0m\u001b[1;33m.\u001b[0m\u001b[0mtest_prime\u001b[0m\u001b[1;33m(\u001b[0m\u001b[1;36m100\u001b[0m\u001b[1;33m)\u001b[0m\u001b[1;33m\u001b[0m\u001b[1;33m\u001b[0m\u001b[0m\n",
      "\u001b[1;31mModuleNotFoundError\u001b[0m: No module named 'abhiprime'"
     ]
    }
   ],
   "source": [
    "!pip install abhiprime\n",
    "import abhiprime as ap\n",
    "ap.test_prime(100)"
   ]
  },
  {
   "cell_type": "code",
   "execution_count": 60,
   "id": "33cb1a2e",
   "metadata": {},
   "outputs": [
    {
     "name": "stdout",
     "output_type": "stream",
     "text": [
      "No of vowels in string are: 3\n"
     ]
    }
   ],
   "source": [
    "#VOWELS\n",
    "a = 'python is fun'\n",
    "vowels = 0\n",
    "for i in a:\n",
    "    if(i == 'a' or i == 'e' or i == 'i' or i == 'o' or i == 'u'):\n",
    "      vowels+=1\n",
    "print(\"No of vowels in string are:\",vowels)"
   ]
  },
  {
   "cell_type": "code",
   "execution_count": 61,
   "id": "11256e24",
   "metadata": {},
   "outputs": [
    {
     "name": "stdout",
     "output_type": "stream",
     "text": [
      "The number of digits are: 3\n"
     ]
    }
   ],
   "source": [
    "n = 786\n",
    "count = 0\n",
    "while n > 0:\n",
    "    count+=1\n",
    "    n//=10\n",
    "print(\"The number of digits are:\",count)"
   ]
  },
  {
   "cell_type": "code",
   "execution_count": 62,
   "id": "27f5fef2",
   "metadata": {},
   "outputs": [
    {
     "name": "stdout",
     "output_type": "stream",
     "text": [
      "0\n",
      "1\n",
      "2\n",
      "3\n"
     ]
    }
   ],
   "source": [
    "for i in range(0,4):\n",
    "    print(i)"
   ]
  },
  {
   "cell_type": "code",
   "execution_count": 63,
   "id": "c1c64846",
   "metadata": {},
   "outputs": [
    {
     "name": "stdout",
     "output_type": "stream",
     "text": [
      "0 1 2 3 "
     ]
    }
   ],
   "source": [
    "for i in range(0,4):\n",
    "    print(i,end=\" \")"
   ]
  },
  {
   "cell_type": "code",
   "execution_count": 64,
   "id": "b3616ba9",
   "metadata": {},
   "outputs": [
    {
     "name": "stdout",
     "output_type": "stream",
     "text": [
      "0 1 2 3 \n",
      "0 1 2 3 "
     ]
    }
   ],
   "source": [
    "for i in range(0,4):\n",
    "    print(i,end=\" \")\n",
    "print()\n",
    "for i in range(0,4):\n",
    "    print(i,end=\" \")"
   ]
  },
  {
   "cell_type": "code",
   "execution_count": 65,
   "id": "2fed3688",
   "metadata": {},
   "outputs": [
    {
     "name": "stdout",
     "output_type": "stream",
     "text": [
      "0 1 2 3 \n",
      "0 1 2 3 \n",
      "0 1 2 3 \n",
      "0 1 2 3 \n"
     ]
    }
   ],
   "source": [
    "for i in range(0,4):\n",
    "    print(i,end=\" \")\n",
    "print()\n",
    "for i in range(0,4):\n",
    "    print(i,end=\" \")\n",
    "print()\n",
    "for i in range(0,4):\n",
    "    print(i,end=\" \")\n",
    "print()\n",
    "for i in range(0,4):\n",
    "    print(i,end=\" \")\n",
    "print()"
   ]
  },
  {
   "cell_type": "code",
   "execution_count": 66,
   "id": "a35cb45b",
   "metadata": {},
   "outputs": [
    {
     "name": "stdout",
     "output_type": "stream",
     "text": [
      "* * * * \n",
      "* * * * \n",
      "* * * * \n",
      "* * * * \n"
     ]
    }
   ],
   "source": [
    "for a in range(0,4):\n",
    "    for i in range(0,4):\n",
    "        print('*',end=\" \")\n",
    "    print()"
   ]
  },
  {
   "cell_type": "code",
   "execution_count": 69,
   "id": "0a2d6ce6",
   "metadata": {},
   "outputs": [
    {
     "name": "stdout",
     "output_type": "stream",
     "text": [
      "Enter a number:6\n",
      "* \n",
      "* * \n",
      "* * * \n",
      "* * * * \n",
      "* * * * * \n",
      "* * * * * * \n"
     ]
    }
   ],
   "source": [
    "a = int(input(\"Enter a number:\"))\n",
    "for i in range(a):\n",
    "    for j in range(i+1):\n",
    "        print('*',end=\" \")\n",
    "    print()"
   ]
  },
  {
   "cell_type": "code",
   "execution_count": 70,
   "id": "f63fef45",
   "metadata": {},
   "outputs": [
    {
     "name": "stdout",
     "output_type": "stream",
     "text": [
      "Enter a number:5\n",
      "* * * * * \n",
      "* * * * \n",
      "* * * \n",
      "* * \n",
      "* \n"
     ]
    }
   ],
   "source": [
    "a = int(input(\"Enter a number:\"))\n",
    "for i in range(a):\n",
    "    for j in range(a-i):\n",
    "        print('*',end=\" \")\n",
    "    print()"
   ]
  },
  {
   "cell_type": "code",
   "execution_count": 71,
   "id": "d9796e39",
   "metadata": {},
   "outputs": [
    {
     "name": "stdout",
     "output_type": "stream",
     "text": [
      "0\n",
      "1\n",
      "2\n"
     ]
    }
   ],
   "source": [
    "for i in range(3):\n",
    "    print(i)"
   ]
  },
  {
   "cell_type": "code",
   "execution_count": 73,
   "id": "b654c11f",
   "metadata": {},
   "outputs": [
    {
     "name": "stdout",
     "output_type": "stream",
     "text": [
      "Enter a number:3\n",
      "* * * \n",
      "* * * * \n",
      "* * * * * \n"
     ]
    }
   ],
   "source": [
    "a = int(input(\"Enter a number:\"))\n",
    "for i in range(a):\n",
    "    for j in range(a+i):\n",
    "        print('*',end=\" \")\n",
    "    print()"
   ]
  },
  {
   "cell_type": "code",
   "execution_count": 74,
   "id": "2c3e0a2f",
   "metadata": {},
   "outputs": [
    {
     "name": "stdout",
     "output_type": "stream",
     "text": [
      "enter the number:3\n",
      "0 0 0 \n",
      "1 1 1 1 \n",
      "2 2 2 2 2 \n"
     ]
    }
   ],
   "source": [
    "a = int(input(\"enter the number:\"))\n",
    "for i in range(a):\n",
    "    for j in range(a+i):\n",
    "        print(i,end=\" \")\n",
    "    print()"
   ]
  },
  {
   "cell_type": "code",
   "execution_count": 75,
   "id": "ab96b928",
   "metadata": {},
   "outputs": [
    {
     "name": "stdout",
     "output_type": "stream",
     "text": [
      "{1, 2, 3, 4, 5}\n",
      "<class 'set'>\n"
     ]
    }
   ],
   "source": [
    "a = {1,2,3,4,5}\n",
    "print(a)\n",
    "print(type(a))"
   ]
  },
  {
   "cell_type": "markdown",
   "id": "89a8f69e",
   "metadata": {},
   "source": [
    "# Dictionaries"
   ]
  },
  {
   "cell_type": "code",
   "execution_count": 1,
   "id": "906c47f3",
   "metadata": {},
   "outputs": [
    {
     "name": "stdout",
     "output_type": "stream",
     "text": [
      "{'ironman', 'tony'}\n",
      "<class 'set'>\n"
     ]
    }
   ],
   "source": [
    "a = {'tony','ironman'}\n",
    "print(a)\n",
    "print(type(a))"
   ]
  },
  {
   "cell_type": "code",
   "execution_count": 2,
   "id": "1011bd7f",
   "metadata": {},
   "outputs": [
    {
     "name": "stdout",
     "output_type": "stream",
     "text": [
      "{'tony': 'ironman'}\n",
      "<class 'dict'>\n"
     ]
    }
   ],
   "source": [
    "a = {'tony':'ironman'}\n",
    "print(a)\n",
    "print(type(a))"
   ]
  },
  {
   "cell_type": "code",
   "execution_count": 3,
   "id": "b22f648c",
   "metadata": {},
   "outputs": [
    {
     "name": "stdout",
     "output_type": "stream",
     "text": [
      "{'tony': 'ironman', 'rony': 'spiderman'}\n",
      "<class 'dict'>\n"
     ]
    }
   ],
   "source": [
    "a = {'tony':'ironman','rony':'spiderman'}\n",
    "print(a)\n",
    "print(type(a))"
   ]
  },
  {
   "cell_type": "code",
   "execution_count": 4,
   "id": "1391b272",
   "metadata": {},
   "outputs": [
    {
     "name": "stdout",
     "output_type": "stream",
     "text": [
      "<class 'dict'>\n"
     ]
    }
   ],
   "source": [
    "a = {}\n",
    "print(type(a))"
   ]
  },
  {
   "cell_type": "code",
   "execution_count": 5,
   "id": "1aedb3ff",
   "metadata": {},
   "outputs": [
    {
     "name": "stdout",
     "output_type": "stream",
     "text": [
      "<class 'set'>\n"
     ]
    }
   ],
   "source": [
    "a = set()\n",
    "print(type(a))"
   ]
  },
  {
   "cell_type": "code",
   "execution_count": 6,
   "id": "b7edd8c0",
   "metadata": {},
   "outputs": [
    {
     "name": "stdout",
     "output_type": "stream",
     "text": [
      "<class 'set'>\n"
     ]
    }
   ],
   "source": [
    "a = set(a)\n",
    "print(type(a))"
   ]
  },
  {
   "cell_type": "code",
   "execution_count": 7,
   "id": "7b8f8f77",
   "metadata": {},
   "outputs": [
    {
     "name": "stdout",
     "output_type": "stream",
     "text": [
      "{1, 2, 3, 4}\n",
      "<class 'set'>\n"
     ]
    }
   ],
   "source": [
    "a = {1,2,3,4}\n",
    "print(a)\n",
    "print(type(a))"
   ]
  },
  {
   "cell_type": "code",
   "execution_count": 10,
   "id": "87dfa638",
   "metadata": {},
   "outputs": [
    {
     "name": "stdout",
     "output_type": "stream",
     "text": [
      "{'c': 1, '+': 2}\n"
     ]
    }
   ],
   "source": [
    "a = 'c++'\n",
    "b = {}\n",
    "for i in a:\n",
    "    if i in b:\n",
    "        b[i]+=1 # b[i]=b[i]+1\n",
    "    else:\n",
    "        b[i]=1\n",
    "print(b)"
   ]
  },
  {
   "cell_type": "code",
   "execution_count": 1,
   "id": "550f838d",
   "metadata": {},
   "outputs": [
    {
     "name": "stdout",
     "output_type": "stream",
     "text": [
      "{'tony': 'ironman', 'steva': 'caption', 'bruca': 'emily'}\n"
     ]
    }
   ],
   "source": [
    "a = {'tony':'ironman','steva':'caption','bruca':'emily'}\n",
    "print(a)"
   ]
  },
  {
   "cell_type": "code",
   "execution_count": 2,
   "id": "8899728a",
   "metadata": {},
   "outputs": [
    {
     "name": "stdout",
     "output_type": "stream",
     "text": [
      "{'tony': 'stuart', 'steva': 'caption', 'bruca': 'emily'}\n"
     ]
    }
   ],
   "source": [
    "a = {'tony':'ironman','steva':'caption','bruca':'emily','tony':'stuart'}\n",
    "print(a)"
   ]
  },
  {
   "cell_type": "code",
   "execution_count": 3,
   "id": "10357ec7",
   "metadata": {},
   "outputs": [
    {
     "data": {
      "text/plain": [
       "'stuart'"
      ]
     },
     "execution_count": 3,
     "metadata": {},
     "output_type": "execute_result"
    }
   ],
   "source": [
    "a['tony']"
   ]
  },
  {
   "cell_type": "code",
   "execution_count": 4,
   "id": "1b37376a",
   "metadata": {},
   "outputs": [
    {
     "data": {
      "text/plain": [
       "dict_keys(['tony', 'steva', 'bruca'])"
      ]
     },
     "execution_count": 4,
     "metadata": {},
     "output_type": "execute_result"
    }
   ],
   "source": [
    "a.keys()"
   ]
  },
  {
   "cell_type": "code",
   "execution_count": 5,
   "id": "44698973",
   "metadata": {},
   "outputs": [
    {
     "data": {
      "text/plain": [
       "dict_values(['stuart', 'caption', 'emily'])"
      ]
     },
     "execution_count": 5,
     "metadata": {},
     "output_type": "execute_result"
    }
   ],
   "source": [
    "a.values()"
   ]
  },
  {
   "cell_type": "code",
   "execution_count": 6,
   "id": "fa13067c",
   "metadata": {},
   "outputs": [
    {
     "data": {
      "text/plain": [
       "dict_items([('tony', 'stuart'), ('steva', 'caption'), ('bruca', 'emily')])"
      ]
     },
     "execution_count": 6,
     "metadata": {},
     "output_type": "execute_result"
    }
   ],
   "source": [
    "a.items()"
   ]
  },
  {
   "cell_type": "code",
   "execution_count": 8,
   "id": "3d3aab57",
   "metadata": {},
   "outputs": [
    {
     "name": "stdout",
     "output_type": "stream",
     "text": [
      "Enter a number:45\n",
      "The roman values is:   XL\n",
      "The roman values is:   XLV\n"
     ]
    }
   ],
   "source": [
    "#ROMAN NUMBERS\n",
    "int_rom=[(1000,'M'),(900,'CM'),(500,'D'),(400,'CD'),(100,'C'),(90,'XC'),(50,'L'),(40,'XL'),(10,'X'),(5,'V'),(4,'IV'),(1,'I')]\n",
    "num=int(input(\"Enter a number:\"))\n",
    "roman=\" \"\n",
    "while num>0:\n",
    "    for i,r in int_rom:\n",
    "        while num>=i:\n",
    "            roman+=r\n",
    "            num-=i\n",
    "      \n",
    "    print(\"The roman values is: \",roman)"
   ]
  },
  {
   "cell_type": "code",
   "execution_count": 2,
   "id": "eb82e094",
   "metadata": {},
   "outputs": [
    {
     "name": "stdout",
     "output_type": "stream",
     "text": [
      "Enter first number:4\n",
      "Enter second number:56\n"
     ]
    }
   ],
   "source": [
    "a=int(input(\"Enter first number:\"))\n",
    "b=int(input(\"Enter second number:\"))\n",
    "if a>b:\n",
    "    greater=a\n",
    "else:\n",
    "    greater=b\n",
    "    while True:\n",
    "        if(greater%a==0)and(greater%b==0):\n",
    "         lcm_is=greater\n",
    "         break\n",
    "         greater+=1\n",
    "         print(\"lcm is: \",lcm_is)"
   ]
  },
  {
   "cell_type": "code",
   "execution_count": 1,
   "id": "672a1207",
   "metadata": {},
   "outputs": [
    {
     "name": "stdout",
     "output_type": "stream",
     "text": [
      "[4, 5, 9, 8, 7, 6]\n"
     ]
    }
   ],
   "source": [
    "#REMOVE THE DUPLICATE ELEMENTS\n",
    "a=[4,5,9,8,7,6,5,4]\n",
    "b=[]\n",
    "for i in a:\n",
    "    if i not in b:\n",
    "        b.append(i)\n",
    "print(b)"
   ]
  },
  {
   "cell_type": "code",
   "execution_count": 3,
   "id": "0dbecbe9",
   "metadata": {},
   "outputs": [
    {
     "name": "stdout",
     "output_type": "stream",
     "text": [
      "{4, 5, 6, 7, 8, 9}\n",
      "list[{4, 5, 6, 7, 8, 9}]\n"
     ]
    }
   ],
   "source": [
    "a=[4,5,9,8,7,6,5,4]\n",
    "b=set(a)\n",
    "print(b)\n",
    "c=list[b]\n",
    "print(c)"
   ]
  },
  {
   "cell_type": "code",
   "execution_count": 1,
   "id": "a4f42fe5",
   "metadata": {},
   "outputs": [
    {
     "name": "stdout",
     "output_type": "stream",
     "text": [
      "{4, 5, 6, 7, 8, 9}\n",
      "[4, 5, 6, 7, 8, 9]\n"
     ]
    }
   ],
   "source": [
    "a=[4,5,9,8,7,6,5,4]\n",
    "b=set(a)\n",
    "print(b)\n",
    "c=list(b)\n",
    "print(c)"
   ]
  },
  {
   "cell_type": "code",
   "execution_count": 2,
   "id": "2385df94",
   "metadata": {},
   "outputs": [
    {
     "name": "stdout",
     "output_type": "stream",
     "text": [
      "[4, 5, 9, 7, 6]\n"
     ]
    }
   ],
   "source": [
    "a=[4,5,9,8,7,6]\n",
    "b=[9,5,7,6,11,4]\n",
    "c=[]\n",
    "for i in a:\n",
    "    if i in b:\n",
    "        c.append(i)\n",
    "print(c)"
   ]
  },
  {
   "cell_type": "code",
   "execution_count": 3,
   "id": "362dd2f8",
   "metadata": {},
   "outputs": [
    {
     "name": "stdout",
     "output_type": "stream",
     "text": [
      "5\n"
     ]
    }
   ],
   "source": [
    "a=[3,4,5,9,0]\n",
    "b=len(a)\n",
    "print(b)"
   ]
  },
  {
   "cell_type": "code",
   "execution_count": 6,
   "id": "30a5213d",
   "metadata": {},
   "outputs": [
    {
     "name": "stdout",
     "output_type": "stream",
     "text": [
      "5\n"
     ]
    }
   ],
   "source": [
    "a=[3,4,5,9,0]\n",
    "if len(a)%2==0:\n",
    "    b=len(a)//2\n",
    "    c=len(a)//2-1\n",
    "    print(a[b],a[c])\n",
    "else:\n",
    "    b=len(a)//2\n",
    "    print(a[b])"
   ]
  },
  {
   "cell_type": "code",
   "execution_count": 7,
   "id": "6f2cd97a",
   "metadata": {},
   "outputs": [
    {
     "name": "stdout",
     "output_type": "stream",
     "text": [
      "5\n"
     ]
    }
   ],
   "source": [
    "a=[3,4,5,9,0]\n",
    "if len(a)%2==0:\n",
    "    b=len(a)//2\n",
    "    c=len(a)//2-1\n",
    "    print(a[b],a[c])\n",
    "else:\n",
    "    b=len(a)//2\n",
    "    print(a[b])"
   ]
  },
  {
   "cell_type": "code",
   "execution_count": 9,
   "id": "a987638e",
   "metadata": {},
   "outputs": [
    {
     "name": "stdout",
     "output_type": "stream",
     "text": [
      "[1, 2, 3, 4, 5, 6, 7, 8, 9, 10, 11, 12, 13, 14, 15, 16, 17, 18, 19, 20, 21, 22, 23, 24, 25, 26, 27, 28, 29, 30, 31, 32, 33, 34, 35, 36, 37, 38, 39, 40, 41, 42, 43, 44, 45, 46, 47, 48, 49, 50]\n",
      "Enter a no:3\n",
      "16\n"
     ]
    }
   ],
   "source": [
    "l=list(range(1,51))\n",
    "print(l)\n",
    "count=0\n",
    "a=int(input(\"Enter a no:\"))\n",
    "for i in l:\n",
    "    if i%a==0:\n",
    "        count=count+1\n",
    "print(count)"
   ]
  },
  {
   "cell_type": "code",
   "execution_count": 10,
   "id": "a5581238",
   "metadata": {},
   "outputs": [
    {
     "name": "stdout",
     "output_type": "stream",
     "text": [
      "Enter the total no you want in the list:56\n",
      "Enter the subject marks:78\n",
      "Enter the subject marks:89\n",
      "Enter the subject marks:90\n",
      "Enter the subject marks:65\n",
      "Enter the subject marks:78\n"
     ]
    }
   ],
   "source": [
    "#CREATE A USER DEFINED LIST OF 5 NUMBERS AND FIND THE AVERAGE\n",
    "num=int(input(\"Enter the total no you want in the list:\"))\n",
    "l=[]\n",
    "for i in range(0,5):\n",
    "    sub=int(input(\"Enter the subject marks:\"))\n",
    "    l.append(sub)"
   ]
  },
  {
   "cell_type": "code",
   "execution_count": 11,
   "id": "dc8ce610",
   "metadata": {},
   "outputs": [
    {
     "name": "stdout",
     "output_type": "stream",
     "text": [
      "4\n",
      "The average score is: 80.0\n"
     ]
    }
   ],
   "source": [
    "print(i)\n",
    "avg=sum(l)/len(l)\n",
    "print(\"The average score is:\",avg)\n"
   ]
  },
  {
   "cell_type": "code",
   "execution_count": 12,
   "id": "bbe66548",
   "metadata": {},
   "outputs": [
    {
     "name": "stdout",
     "output_type": "stream",
     "text": [
      "['p', 'y', 't', 'h', 'o', 'n']\n"
     ]
    }
   ],
   "source": [
    "a='python'\n",
    "print(list(a))"
   ]
  },
  {
   "cell_type": "code",
   "execution_count": 1,
   "id": "f003f1f0",
   "metadata": {},
   "outputs": [
    {
     "name": "stdout",
     "output_type": "stream",
     "text": [
      "Enter the string:wet\n",
      "<reversed object at 0x000001594AF78850>\n"
     ]
    }
   ],
   "source": [
    "str_1 = input(\"Enter the string:\")\n",
    "str_2 = reversed(str_1)\n",
    "print(str_2)"
   ]
  },
  {
   "cell_type": "code",
   "execution_count": 3,
   "id": "2c804958",
   "metadata": {},
   "outputs": [
    {
     "name": "stdout",
     "output_type": "stream",
     "text": [
      "Enter the string:wow\n",
      "same\n"
     ]
    }
   ],
   "source": [
    "str_1 = input(\"Enter the string:\")\n",
    "str_2 = reversed(str_1)\n",
    "if list(str_1)==list(str_2):\n",
    "   print(\"same\")\n",
    "else:\n",
    "   print(\"different\")\n",
    "    "
   ]
  },
  {
   "cell_type": "markdown",
   "id": "99c72a87",
   "metadata": {},
   "source": [
    "# SETS"
   ]
  },
  {
   "cell_type": "code",
   "execution_count": 4,
   "id": "5695a09a",
   "metadata": {},
   "outputs": [
    {
     "name": "stdout",
     "output_type": "stream",
     "text": [
      "set()\n",
      "<class 'set'>\n"
     ]
    }
   ],
   "source": [
    "a = set()\n",
    "print(a)\n",
    "print(type(a))"
   ]
  },
  {
   "cell_type": "code",
   "execution_count": 6,
   "id": "66ec5b9a",
   "metadata": {},
   "outputs": [
    {
     "name": "stdout",
     "output_type": "stream",
     "text": [
      "{1, 4, 5, 6, 8}\n"
     ]
    }
   ],
   "source": [
    "a = {4,5,8,1,6,4,5,8,1,6}\n",
    "print(a)"
   ]
  },
  {
   "cell_type": "code",
   "execution_count": 7,
   "id": "56844f78",
   "metadata": {},
   "outputs": [
    {
     "ename": "TypeError",
     "evalue": "'set' object is not subscriptable",
     "output_type": "error",
     "traceback": [
      "\u001b[1;31m---------------------------------------------------------------------------\u001b[0m",
      "\u001b[1;31mTypeError\u001b[0m                                 Traceback (most recent call last)",
      "\u001b[1;32m~\\AppData\\Local\\Temp/ipykernel_15256/1491763536.py\u001b[0m in \u001b[0;36m<module>\u001b[1;34m\u001b[0m\n\u001b[1;32m----> 1\u001b[1;33m \u001b[0ma\u001b[0m\u001b[1;33m[\u001b[0m\u001b[1;36m0\u001b[0m\u001b[1;33m]\u001b[0m\u001b[1;33m\u001b[0m\u001b[1;33m\u001b[0m\u001b[0m\n\u001b[0m\u001b[0;32m      2\u001b[0m \u001b[0mprint\u001b[0m\u001b[1;33m(\u001b[0m\u001b[0ma\u001b[0m\u001b[1;33m)\u001b[0m\u001b[1;33m\u001b[0m\u001b[1;33m\u001b[0m\u001b[0m\n",
      "\u001b[1;31mTypeError\u001b[0m: 'set' object is not subscriptable"
     ]
    }
   ],
   "source": [
    "a[0]\n",
    "print(a)"
   ]
  },
  {
   "cell_type": "markdown",
   "id": "34753a95",
   "metadata": {},
   "source": [
    "# UNION IN SET"
   ]
  },
  {
   "cell_type": "code",
   "execution_count": 8,
   "id": "0274e8ac",
   "metadata": {},
   "outputs": [
    {
     "name": "stdout",
     "output_type": "stream",
     "text": [
      "{'quill', 'banner', 'tony', 'peter', 'stephen', 'steve'}\n"
     ]
    }
   ],
   "source": [
    "a = {'tony','steve','banner'}\n",
    "b = {'peter','stephen','quill'}\n",
    "print(a|b)\n"
   ]
  },
  {
   "cell_type": "code",
   "execution_count": 9,
   "id": "13a08244",
   "metadata": {},
   "outputs": [
    {
     "name": "stdout",
     "output_type": "stream",
     "text": [
      "{'quill', 'banner', 'tony', 'peter', 'stephen', 'steve'}\n"
     ]
    }
   ],
   "source": [
    "print(a.union(b))"
   ]
  },
  {
   "cell_type": "code",
   "execution_count": 10,
   "id": "48d7c28d",
   "metadata": {},
   "outputs": [
    {
     "name": "stdout",
     "output_type": "stream",
     "text": [
      "{'p', 'u', 'tony', 'q', 't', 'l', 'n', 'e', 'h', 'i', 's', 'banner', 'r', 'steve'}\n"
     ]
    }
   ],
   "source": [
    "print(a.union('peter','stephen','quill'))\n"
   ]
  },
  {
   "cell_type": "code",
   "execution_count": 11,
   "id": "8d5a4d40",
   "metadata": {},
   "outputs": [
    {
     "ename": "TypeError",
     "evalue": "unsupported operand type(s) for |: 'set' and 'tuple'",
     "output_type": "error",
     "traceback": [
      "\u001b[1;31m---------------------------------------------------------------------------\u001b[0m",
      "\u001b[1;31mTypeError\u001b[0m                                 Traceback (most recent call last)",
      "\u001b[1;32m~\\AppData\\Local\\Temp/ipykernel_15256/1888755372.py\u001b[0m in \u001b[0;36m<module>\u001b[1;34m\u001b[0m\n\u001b[1;32m----> 1\u001b[1;33m \u001b[0mprint\u001b[0m\u001b[1;33m(\u001b[0m\u001b[0ma\u001b[0m\u001b[1;33m|\u001b[0m\u001b[1;33m(\u001b[0m\u001b[1;34m'peter'\u001b[0m\u001b[1;33m,\u001b[0m\u001b[1;34m'stephen'\u001b[0m\u001b[1;33m,\u001b[0m\u001b[1;34m'quill'\u001b[0m\u001b[1;33m)\u001b[0m\u001b[1;33m)\u001b[0m\u001b[1;33m\u001b[0m\u001b[1;33m\u001b[0m\u001b[0m\n\u001b[0m",
      "\u001b[1;31mTypeError\u001b[0m: unsupported operand type(s) for |: 'set' and 'tuple'"
     ]
    }
   ],
   "source": [
    "print(a|('peter','stephen','quill'))\n"
   ]
  },
  {
   "cell_type": "code",
   "execution_count": 12,
   "id": "c6150721",
   "metadata": {},
   "outputs": [
    {
     "name": "stdout",
     "output_type": "stream",
     "text": [
      "{'quill', 'tony', 'peter', 'stephen', 'banner', 'steve'}\n"
     ]
    }
   ],
   "source": [
    "print(a.union(('peter','stephen','quill')))"
   ]
  },
  {
   "cell_type": "markdown",
   "id": "00018008",
   "metadata": {},
   "source": [
    "# INTERSECTION IN SETS"
   ]
  },
  {
   "cell_type": "code",
   "execution_count": 13,
   "id": "b01a346f",
   "metadata": {},
   "outputs": [
    {
     "name": "stdout",
     "output_type": "stream",
     "text": [
      "{'pie'}\n"
     ]
    }
   ],
   "source": [
    "a = {'tony','steva','banner','pie'}\n",
    "b = {'peter','stephen','quill','pie'}\n",
    "print(a&b)"
   ]
  },
  {
   "cell_type": "code",
   "execution_count": 14,
   "id": "b9b2dc8c",
   "metadata": {},
   "outputs": [
    {
     "name": "stdout",
     "output_type": "stream",
     "text": [
      "{'pie'}\n"
     ]
    }
   ],
   "source": [
    "print(a.intersection(b))"
   ]
  },
  {
   "cell_type": "markdown",
   "id": "f12ca638",
   "metadata": {},
   "source": [
    "# SYMMETRIC DIFFERENCE IN SETS"
   ]
  },
  {
   "cell_type": "code",
   "execution_count": 15,
   "id": "557f5dde",
   "metadata": {},
   "outputs": [
    {
     "name": "stdout",
     "output_type": "stream",
     "text": [
      "{'steva', 'quill', 'tony', 'peter', 'stephen', 'banner'}\n"
     ]
    }
   ],
   "source": [
    "a = {'tony','steva','banner','nebula'}\n",
    "b = {'peter','stephen','quill','nebula'}\n",
    "print(a^b)"
   ]
  },
  {
   "cell_type": "markdown",
   "id": "260a0fa1",
   "metadata": {},
   "source": [
    "# SUBSET OF A SET"
   ]
  },
  {
   "cell_type": "code",
   "execution_count": 19,
   "id": "77592327",
   "metadata": {},
   "outputs": [
    {
     "name": "stdout",
     "output_type": "stream",
     "text": [
      "True\n",
      "False\n",
      "True\n",
      "False\n"
     ]
    }
   ],
   "source": [
    "a = {'tony','steva','banner'}\n",
    "b = {'tony','steva','banner','peter','stephen','quill'}\n",
    "print(a<=b)\n",
    "print(b<=a)\n",
    "print(a.issubset(b))\n",
    "print(b.issubset(a))\n"
   ]
  },
  {
   "cell_type": "code",
   "execution_count": 21,
   "id": "37b53202",
   "metadata": {},
   "outputs": [
    {
     "name": "stdout",
     "output_type": "stream",
     "text": [
      "['poi', 'bcv']\n"
     ]
    }
   ],
   "source": [
    "words = {'qsc','poi','bcv','bst'}\n",
    "qwer = set('qwertyuiop')\n",
    "asdf = set('asdfgjkl')\n",
    "zxcv = set('zxcvbnm')\n",
    "ans = []\n",
    "for word in words:\n",
    "    w = set(word)\n",
    "    if w<=qwer or w<=asdf or w<=zxcv:\n",
    "        ans.append(word)\n",
    "print(ans)"
   ]
  },
  {
   "cell_type": "markdown",
   "id": "c797137d",
   "metadata": {},
   "source": [
    "# ADD,REMOVE AND DISCARD"
   ]
  },
  {
   "cell_type": "code",
   "execution_count": 22,
   "id": "97d268e5",
   "metadata": {},
   "outputs": [
    {
     "name": "stdout",
     "output_type": "stream",
     "text": [
      "{'banner', 'tony', 'steva', 'thor'}\n"
     ]
    }
   ],
   "source": [
    "a = {'tony','steva','banner'}\n",
    "a.add('thor')\n",
    "print(a)"
   ]
  },
  {
   "cell_type": "code",
   "execution_count": 23,
   "id": "7b5c5027",
   "metadata": {},
   "outputs": [
    {
     "ename": "TypeError",
     "evalue": "set.add() takes exactly one argument (2 given)",
     "output_type": "error",
     "traceback": [
      "\u001b[1;31m---------------------------------------------------------------------------\u001b[0m",
      "\u001b[1;31mTypeError\u001b[0m                                 Traceback (most recent call last)",
      "\u001b[1;32m~\\AppData\\Local\\Temp/ipykernel_15256/2383268112.py\u001b[0m in \u001b[0;36m<module>\u001b[1;34m\u001b[0m\n\u001b[1;32m----> 1\u001b[1;33m \u001b[0ma\u001b[0m\u001b[1;33m.\u001b[0m\u001b[0madd\u001b[0m\u001b[1;33m(\u001b[0m\u001b[1;34m'peter'\u001b[0m\u001b[1;33m,\u001b[0m\u001b[1;34m'strange'\u001b[0m\u001b[1;33m)\u001b[0m\u001b[1;33m\u001b[0m\u001b[1;33m\u001b[0m\u001b[0m\n\u001b[0m\u001b[0;32m      2\u001b[0m \u001b[0mprint\u001b[0m\u001b[1;33m(\u001b[0m\u001b[0ma\u001b[0m\u001b[1;33m)\u001b[0m\u001b[1;33m\u001b[0m\u001b[1;33m\u001b[0m\u001b[0m\n",
      "\u001b[1;31mTypeError\u001b[0m: set.add() takes exactly one argument (2 given)"
     ]
    }
   ],
   "source": [
    "a.add('peter','strange')\n",
    "print(a)"
   ]
  },
  {
   "cell_type": "code",
   "execution_count": 24,
   "id": "4d9e6acf",
   "metadata": {},
   "outputs": [
    {
     "name": "stdout",
     "output_type": "stream",
     "text": [
      "{'banner', 'tony', 'steva'}\n"
     ]
    }
   ],
   "source": [
    "a.remove('thor')\n",
    "print(a)"
   ]
  },
  {
   "cell_type": "code",
   "execution_count": 25,
   "id": "91c25fe1",
   "metadata": {},
   "outputs": [
    {
     "name": "stdout",
     "output_type": "stream",
     "text": [
      "{'tony', 'steva'}\n"
     ]
    }
   ],
   "source": [
    "a.discard('banner')\n",
    "print(a)"
   ]
  },
  {
   "cell_type": "code",
   "execution_count": 26,
   "id": "772fa13a",
   "metadata": {},
   "outputs": [
    {
     "name": "stdout",
     "output_type": "stream",
     "text": [
      "set()\n"
     ]
    }
   ],
   "source": [
    "a.clear()\n",
    "print(a)"
   ]
  },
  {
   "cell_type": "markdown",
   "id": "67162de8",
   "metadata": {},
   "source": [
    "# POP AND CLEAR"
   ]
  },
  {
   "cell_type": "code",
   "execution_count": 28,
   "id": "20609083",
   "metadata": {},
   "outputs": [
    {
     "name": "stdout",
     "output_type": "stream",
     "text": [
      "{'tony', 'steva', 'thor'}\n"
     ]
    }
   ],
   "source": [
    "a = {'tony','thor','steva','banner'}\n",
    "a.pop()\n",
    "print(a)"
   ]
  },
  {
   "cell_type": "code",
   "execution_count": 29,
   "id": "924c17f0",
   "metadata": {},
   "outputs": [
    {
     "name": "stdout",
     "output_type": "stream",
     "text": [
      "{'steva', 'thor'}\n"
     ]
    }
   ],
   "source": [
    "a.pop()\n",
    "print(a)"
   ]
  },
  {
   "cell_type": "markdown",
   "id": "743f960e",
   "metadata": {},
   "source": [
    "# FROZENSET"
   ]
  },
  {
   "cell_type": "code",
   "execution_count": 30,
   "id": "970c5026",
   "metadata": {},
   "outputs": [
    {
     "name": "stdout",
     "output_type": "stream",
     "text": [
      "frozenset({'steva', 'banner', 'tony', 'thor'})\n",
      "<class 'frozenset'>\n"
     ]
    }
   ],
   "source": [
    "a = frozenset(['tony','thor','banner','steva'])\n",
    "print(a)\n",
    "print(type(a))"
   ]
  },
  {
   "cell_type": "code",
   "execution_count": 31,
   "id": "f9abc34a",
   "metadata": {},
   "outputs": [
    {
     "ename": "AttributeError",
     "evalue": "'frozenset' object has no attribute 'pop'",
     "output_type": "error",
     "traceback": [
      "\u001b[1;31m---------------------------------------------------------------------------\u001b[0m",
      "\u001b[1;31mAttributeError\u001b[0m                            Traceback (most recent call last)",
      "\u001b[1;32m~\\AppData\\Local\\Temp/ipykernel_15256/3819448126.py\u001b[0m in \u001b[0;36m<module>\u001b[1;34m\u001b[0m\n\u001b[1;32m----> 1\u001b[1;33m \u001b[0ma\u001b[0m\u001b[1;33m.\u001b[0m\u001b[0mpop\u001b[0m\u001b[1;33m(\u001b[0m\u001b[1;33m)\u001b[0m\u001b[1;33m\u001b[0m\u001b[1;33m\u001b[0m\u001b[0m\n\u001b[0m\u001b[0;32m      2\u001b[0m \u001b[0mprint\u001b[0m\u001b[1;33m(\u001b[0m\u001b[0ma\u001b[0m\u001b[1;33m)\u001b[0m\u001b[1;33m\u001b[0m\u001b[1;33m\u001b[0m\u001b[0m\n",
      "\u001b[1;31mAttributeError\u001b[0m: 'frozenset' object has no attribute 'pop'"
     ]
    }
   ],
   "source": [
    "a.pop()\n",
    "print(a)"
   ]
  },
  {
   "cell_type": "code",
   "execution_count": 32,
   "id": "76144afd",
   "metadata": {},
   "outputs": [
    {
     "ename": "AttributeError",
     "evalue": "'frozenset' object has no attribute 'add'",
     "output_type": "error",
     "traceback": [
      "\u001b[1;31m---------------------------------------------------------------------------\u001b[0m",
      "\u001b[1;31mAttributeError\u001b[0m                            Traceback (most recent call last)",
      "\u001b[1;32m~\\AppData\\Local\\Temp/ipykernel_15256/6070484.py\u001b[0m in \u001b[0;36m<module>\u001b[1;34m\u001b[0m\n\u001b[1;32m----> 1\u001b[1;33m \u001b[0ma\u001b[0m\u001b[1;33m.\u001b[0m\u001b[0madd\u001b[0m\u001b[1;33m(\u001b[0m\u001b[1;34m'riya'\u001b[0m\u001b[1;33m)\u001b[0m\u001b[1;33m\u001b[0m\u001b[1;33m\u001b[0m\u001b[0m\n\u001b[0m\u001b[0;32m      2\u001b[0m \u001b[0mprint\u001b[0m\u001b[1;33m(\u001b[0m\u001b[0ma\u001b[0m\u001b[1;33m)\u001b[0m\u001b[1;33m\u001b[0m\u001b[1;33m\u001b[0m\u001b[0m\n",
      "\u001b[1;31mAttributeError\u001b[0m: 'frozenset' object has no attribute 'add'"
     ]
    }
   ],
   "source": [
    "a.add('riya')\n",
    "print(a)"
   ]
  },
  {
   "cell_type": "code",
   "execution_count": 33,
   "id": "6e5100c5",
   "metadata": {},
   "outputs": [
    {
     "name": "stdout",
     "output_type": "stream",
     "text": [
      "frozenset({'tony', 'thor'})\n"
     ]
    }
   ],
   "source": [
    "a = frozenset(['tony','thor','steva','banner'])\n",
    "b = {'tony','thor'}\n",
    "a = a&b\n",
    "print(a)"
   ]
  },
  {
   "cell_type": "code",
   "execution_count": 34,
   "id": "411f32f1",
   "metadata": {},
   "outputs": [
    {
     "name": "stdout",
     "output_type": "stream",
     "text": [
      "1483022892832\n",
      "frozenset({'tony', 'thor'})\n",
      "1483022891264\n"
     ]
    }
   ],
   "source": [
    "a = frozenset(['tony','thor','steva','banner'])\n",
    "print(id(a))\n",
    "b = {'tony','thor'}\n",
    "a = a&b\n",
    "print(a)\n",
    "print(id(a))"
   ]
  },
  {
   "cell_type": "code",
   "execution_count": 35,
   "id": "49212195",
   "metadata": {},
   "outputs": [
    {
     "name": "stdout",
     "output_type": "stream",
     "text": [
      "[1, 2, 3, 4, 5, 6, 7, 8, 9, 10, 11, 12, 13, 14, 15, 16, 17, 18, 19, 20, 21, 22, 23, 24, 25, 26, 27, 28, 29, 30, 31, 32, 33, 34, 35, 36, 37, 38, 39, 40, 41, 42, 43, 44, 45, 46, 47, 48, 49, 50]\n",
      "Enter a number:3\n",
      "16\n"
     ]
    }
   ],
   "source": [
    "l = list(range(1,51))\n",
    "print(l)\n",
    "count=0\n",
    "a = int(input(\"Enter a number:\"))\n",
    "for i in l:\n",
    "    if i%a == 0:\n",
    "        count+=1\n",
    "print(count)\n"
   ]
  },
  {
   "cell_type": "code",
   "execution_count": 37,
   "id": "fe611fbc",
   "metadata": {},
   "outputs": [
    {
     "name": "stdout",
     "output_type": "stream",
     "text": [
      "6\n"
     ]
    }
   ],
   "source": [
    "l = [2,3,6,78,9]\n",
    "b = len(l)//2\n",
    "print(l[b])"
   ]
  },
  {
   "cell_type": "code",
   "execution_count": 38,
   "id": "ef9a667d",
   "metadata": {},
   "outputs": [
    {
     "name": "stdout",
     "output_type": "stream",
     "text": [
      "78\n"
     ]
    }
   ],
   "source": [
    "l = [2,3,6,78,9,10]\n",
    "b = len(l)//2\n",
    "print(l[b])"
   ]
  },
  {
   "cell_type": "code",
   "execution_count": 39,
   "id": "1e34dbab",
   "metadata": {},
   "outputs": [
    {
     "name": "stdout",
     "output_type": "stream",
     "text": [
      "78 6\n"
     ]
    }
   ],
   "source": [
    "l = [2,3,6,78,9,10]\n",
    "b = len(l)//2\n",
    "c = (len(l)//2)-1\n",
    "print(l[b],l[c])"
   ]
  },
  {
   "cell_type": "code",
   "execution_count": 40,
   "id": "f01579b5",
   "metadata": {},
   "outputs": [
    {
     "name": "stderr",
     "output_type": "stream",
     "text": [
      "WARNING: Retrying (Retry(total=4, connect=None, read=None, redirect=None, status=None)) after connection broken by 'NewConnectionError('<pip._vendor.urllib3.connection.HTTPSConnection object at 0x0000022D3061A490>: Failed to establish a new connection: [Errno 11001] getaddrinfo failed')': /simple/abhiprime/\n",
      "WARNING: Retrying (Retry(total=3, connect=None, read=None, redirect=None, status=None)) after connection broken by 'NewConnectionError('<pip._vendor.urllib3.connection.HTTPSConnection object at 0x0000022D3061A130>: Failed to establish a new connection: [Errno 11001] getaddrinfo failed')': /simple/abhiprime/\n",
      "WARNING: Retrying (Retry(total=2, connect=None, read=None, redirect=None, status=None)) after connection broken by 'NewConnectionError('<pip._vendor.urllib3.connection.HTTPSConnection object at 0x0000022D3061AA90>: Failed to establish a new connection: [Errno 11001] getaddrinfo failed')': /simple/abhiprime/\n",
      "WARNING: Retrying (Retry(total=1, connect=None, read=None, redirect=None, status=None)) after connection broken by 'NewConnectionError('<pip._vendor.urllib3.connection.HTTPSConnection object at 0x0000022D3061AC40>: Failed to establish a new connection: [Errno 11001] getaddrinfo failed')': /simple/abhiprime/\n",
      "WARNING: Retrying (Retry(total=0, connect=None, read=None, redirect=None, status=None)) after connection broken by 'NewConnectionError('<pip._vendor.urllib3.connection.HTTPSConnection object at 0x0000022D3061ADF0>: Failed to establish a new connection: [Errno 11001] getaddrinfo failed')': /simple/abhiprime/\n",
      "ERROR: Could not find a version that satisfies the requirement abhiprime (from versions: none)\n",
      "ERROR: No matching distribution found for abhiprime\n"
     ]
    },
    {
     "ename": "ModuleNotFoundError",
     "evalue": "No module named 'abhiprime'",
     "output_type": "error",
     "traceback": [
      "\u001b[1;31m---------------------------------------------------------------------------\u001b[0m",
      "\u001b[1;31mModuleNotFoundError\u001b[0m                       Traceback (most recent call last)",
      "\u001b[1;32m~\\AppData\\Local\\Temp/ipykernel_15256/2604815793.py\u001b[0m in \u001b[0;36m<module>\u001b[1;34m\u001b[0m\n\u001b[0;32m      1\u001b[0m \u001b[0mget_ipython\u001b[0m\u001b[1;33m(\u001b[0m\u001b[1;33m)\u001b[0m\u001b[1;33m.\u001b[0m\u001b[0msystem\u001b[0m\u001b[1;33m(\u001b[0m\u001b[1;34m'pip install abhiprime'\u001b[0m\u001b[1;33m)\u001b[0m\u001b[1;33m\u001b[0m\u001b[1;33m\u001b[0m\u001b[0m\n\u001b[1;32m----> 2\u001b[1;33m \u001b[1;32mimport\u001b[0m \u001b[0mabhiprime\u001b[0m \u001b[1;32mas\u001b[0m \u001b[0map\u001b[0m\u001b[1;33m\u001b[0m\u001b[1;33m\u001b[0m\u001b[0m\n\u001b[0m\u001b[0;32m      3\u001b[0m \u001b[0map\u001b[0m\u001b[1;33m.\u001b[0m\u001b[0mnext_prime\u001b[0m\u001b[1;33m(\u001b[0m\u001b[1;36m100\u001b[0m\u001b[1;33m)\u001b[0m\u001b[1;33m\u001b[0m\u001b[1;33m\u001b[0m\u001b[0m\n",
      "\u001b[1;31mModuleNotFoundError\u001b[0m: No module named 'abhiprime'"
     ]
    }
   ],
   "source": [
    "!pip install abhiprime\n",
    "import abhiprime as ap\n",
    "ap.next_prime(100)"
   ]
  },
  {
   "cell_type": "markdown",
   "id": "7e1553fb",
   "metadata": {},
   "source": [
    "# FUNCTIONS IN PYTHON"
   ]
  },
  {
   "cell_type": "code",
   "execution_count": 41,
   "id": "fcc587cc",
   "metadata": {},
   "outputs": [
    {
     "name": "stdout",
     "output_type": "stream",
     "text": [
      "[1, 5, 7, 8]\n"
     ]
    }
   ],
   "source": [
    "a = [1,5,7,8]\n",
    "a.sort()\n",
    "print(a)"
   ]
  },
  {
   "cell_type": "code",
   "execution_count": 45,
   "id": "1600884f",
   "metadata": {},
   "outputs": [
    {
     "name": "stdout",
     "output_type": "stream",
     "text": [
      "[1, 5, 7, 8]\n",
      "[5, 7, 1, 8]\n"
     ]
    }
   ],
   "source": [
    "a = [5,7,1,8]\n",
    "print(sorted(a))\n",
    "print(a)"
   ]
  },
  {
   "cell_type": "code",
   "execution_count": 46,
   "id": "bed1fe09",
   "metadata": {},
   "outputs": [
    {
     "data": {
      "text/plain": [
       "25"
      ]
     },
     "execution_count": 46,
     "metadata": {},
     "output_type": "execute_result"
    }
   ],
   "source": [
    "def sq_num(n):\n",
    "    return n**2\n",
    "sq_num(5)"
   ]
  },
  {
   "cell_type": "code",
   "execution_count": 48,
   "id": "3f9f7e13",
   "metadata": {},
   "outputs": [
    {
     "data": {
      "text/plain": [
       "0"
      ]
     },
     "execution_count": 48,
     "metadata": {},
     "output_type": "execute_result"
    }
   ],
   "source": [
    "def sq_num(m,n=0):\n",
    "    return n**2\n",
    "sq_num(5)"
   ]
  },
  {
   "cell_type": "code",
   "execution_count": 51,
   "id": "3643a685",
   "metadata": {},
   "outputs": [
    {
     "data": {
      "text/plain": [
       "26"
      ]
     },
     "execution_count": 51,
     "metadata": {},
     "output_type": "execute_result"
    }
   ],
   "source": [
    "def sq_num(n,m=0):\n",
    "    return n+m**2\n",
    "sq_num(1,5)"
   ]
  },
  {
   "cell_type": "code",
   "execution_count": 52,
   "id": "c8d7608d",
   "metadata": {},
   "outputs": [
    {
     "data": {
      "text/plain": [
       "1"
      ]
     },
     "execution_count": 52,
     "metadata": {},
     "output_type": "execute_result"
    }
   ],
   "source": [
    "def sq_num(n,m=0):\n",
    "    return n+m**2\n",
    "sq_num(1)"
   ]
  },
  {
   "cell_type": "code",
   "execution_count": 53,
   "id": "cf68ed3b",
   "metadata": {},
   "outputs": [
    {
     "data": {
      "text/plain": [
       "26"
      ]
     },
     "execution_count": 53,
     "metadata": {},
     "output_type": "execute_result"
    }
   ],
   "source": [
    "def sq_num(n,m):\n",
    "    return n+m**2\n",
    "sq_num(1,5)"
   ]
  },
  {
   "cell_type": "code",
   "execution_count": 54,
   "id": "b662bdc1",
   "metadata": {},
   "outputs": [
    {
     "data": {
      "text/plain": [
       "26"
      ]
     },
     "execution_count": 54,
     "metadata": {},
     "output_type": "execute_result"
    }
   ],
   "source": [
    "def sq_num(n,m):\n",
    "    return n+m**2\n",
    "sq_num(m=5,n=1)"
   ]
  },
  {
   "cell_type": "code",
   "execution_count": 55,
   "id": "0bc6376b",
   "metadata": {},
   "outputs": [
    {
     "data": {
      "text/plain": [
       "[1, 4, 9, 16]"
      ]
     },
     "execution_count": 55,
     "metadata": {},
     "output_type": "execute_result"
    }
   ],
   "source": [
    "def sq_list(l):\n",
    "    b = []\n",
    "    for i in l:\n",
    "        b.append(i**2)\n",
    "    return b\n",
    "l = [1,2,3,4]\n",
    "sq_list(l)"
   ]
  },
  {
   "cell_type": "markdown",
   "id": "f14c0813",
   "metadata": {},
   "source": [
    "# MAXIMUM BETWEEN TWO NUMBERS"
   ]
  },
  {
   "cell_type": "code",
   "execution_count": 56,
   "id": "471ae09a",
   "metadata": {},
   "outputs": [
    {
     "data": {
      "text/plain": [
       "7"
      ]
     },
     "execution_count": 56,
     "metadata": {},
     "output_type": "execute_result"
    }
   ],
   "source": [
    "def max_num(a,b):\n",
    "    if a>b:\n",
    "        return a\n",
    "    else:\n",
    "        return b\n",
    "max_num(4,7)"
   ]
  },
  {
   "cell_type": "code",
   "execution_count": 59,
   "id": "97412978",
   "metadata": {},
   "outputs": [
    {
     "data": {
      "text/plain": [
       "[3, 4]"
      ]
     },
     "execution_count": 59,
     "metadata": {},
     "output_type": "execute_result"
    }
   ],
   "source": [
    "def sq_list(l):\n",
    "    b = []\n",
    "    for i in l:\n",
    "        if i>2:\n",
    "            b.append(i)\n",
    "    return b\n",
    "l = [1,2,3,4]\n",
    "sq_list(l)"
   ]
  },
  {
   "cell_type": "code",
   "execution_count": 60,
   "id": "9326ff73",
   "metadata": {},
   "outputs": [
    {
     "name": "stdout",
     "output_type": "stream",
     "text": [
      "25\n"
     ]
    }
   ],
   "source": [
    "def sq_num(m):\n",
    "    return m**2\n",
    "sq_num(5)\n",
    "a=lambda m:m**2\n",
    "print(a(5))"
   ]
  },
  {
   "cell_type": "code",
   "execution_count": 61,
   "id": "f6b69d4c",
   "metadata": {},
   "outputs": [
    {
     "name": "stdout",
     "output_type": "stream",
     "text": [
      "[1, 4, 9, 16]\n"
     ]
    }
   ],
   "source": [
    "l = [1,2,3,4]\n",
    "print(list(map(lambda i:i**2,l)))"
   ]
  },
  {
   "cell_type": "code",
   "execution_count": 62,
   "id": "b9951dc3",
   "metadata": {},
   "outputs": [
    {
     "name": "stdout",
     "output_type": "stream",
     "text": [
      "[3, 4]\n"
     ]
    }
   ],
   "source": [
    "l = [1,2,3,4]\n",
    "print(list(filter(lambda i:i>2,l)))"
   ]
  },
  {
   "cell_type": "code",
   "execution_count": 63,
   "id": "5297d8b7",
   "metadata": {},
   "outputs": [
    {
     "name": "stdout",
     "output_type": "stream",
     "text": [
      "[False, False, True, True]\n"
     ]
    }
   ],
   "source": [
    "l = [1,2,3,4]\n",
    "print(list(map(lambda i:i>2,l)))"
   ]
  },
  {
   "cell_type": "code",
   "execution_count": 64,
   "id": "790c5bfd",
   "metadata": {},
   "outputs": [
    {
     "name": "stdout",
     "output_type": "stream",
     "text": [
      "64\n"
     ]
    }
   ],
   "source": [
    "def sq(n):\n",
    "    return n**2\n",
    "sq(8)\n",
    "print(sq(8))"
   ]
  },
  {
   "cell_type": "code",
   "execution_count": 65,
   "id": "ba5eefc7",
   "metadata": {},
   "outputs": [
    {
     "name": "stdout",
     "output_type": "stream",
     "text": [
      "64\n"
     ]
    }
   ],
   "source": [
    "def sq(n):\n",
    "    return n**2\n",
    "f=sq\n",
    "f(8)\n",
    "print(sq(8))"
   ]
  },
  {
   "cell_type": "code",
   "execution_count": 66,
   "id": "e69bff06",
   "metadata": {},
   "outputs": [
    {
     "name": "stdout",
     "output_type": "stream",
     "text": [
      "1\n",
      "64\n"
     ]
    }
   ],
   "source": [
    "m=1\n",
    "def sq(n):\n",
    "    m=n**2\n",
    "    return m\n",
    "print(m)\n",
    "print(sq(8))"
   ]
  },
  {
   "cell_type": "code",
   "execution_count": 67,
   "id": "e6b20e2e",
   "metadata": {},
   "outputs": [
    {
     "name": "stdout",
     "output_type": "stream",
     "text": [
      "Inside the function: 20\n",
      "Outside the function: 10\n"
     ]
    }
   ],
   "source": [
    "m=10\n",
    "def global_check():\n",
    "    m=20\n",
    "    print(\"Inside the function:\",m)\n",
    "global_check()\n",
    "print(\"Outside the function:\",m)"
   ]
  },
  {
   "cell_type": "code",
   "execution_count": 68,
   "id": "eecb3862",
   "metadata": {},
   "outputs": [
    {
     "name": "stdout",
     "output_type": "stream",
     "text": [
      "Inside the function: 10\n",
      "Outside the function: 10\n"
     ]
    }
   ],
   "source": [
    "m=10\n",
    "def global_check():\n",
    "    print(\"Inside the function:\",m)\n",
    "global_check()\n",
    "print(\"Outside the function:\",m)"
   ]
  },
  {
   "cell_type": "code",
   "execution_count": 72,
   "id": "964a1a72",
   "metadata": {},
   "outputs": [
    {
     "name": "stdout",
     "output_type": "stream",
     "text": [
      "inner value\n",
      "outer value\n"
     ]
    }
   ],
   "source": [
    "def outer():\n",
    "    x='outer value'\n",
    "    def inner():\n",
    "        x=\"inner value\"\n",
    "        print(x)\n",
    "    inner()\n",
    "    print(x)\n",
    "outer()"
   ]
  },
  {
   "cell_type": "code",
   "execution_count": null,
   "id": "007a56fc",
   "metadata": {},
   "outputs": [],
   "source": [
    "def outer():\n",
    "    x='outer value'\n",
    "    def inner():\n",
    "        x=\"inner value\"\n",
    "        print(x)\n",
    "    inner()\n",
    "    print(x)\n",
    "outer()"
   ]
  },
  {
   "cell_type": "markdown",
   "id": "6109290e",
   "metadata": {},
   "source": [
    "# CLOSURE FUNCTION"
   ]
  },
  {
   "cell_type": "code",
   "execution_count": 2,
   "id": "d3777075",
   "metadata": {},
   "outputs": [
    {
     "data": {
      "text/plain": [
       "9"
      ]
     },
     "execution_count": 2,
     "metadata": {},
     "output_type": "execute_result"
    }
   ],
   "source": [
    "#When an inner function can access the outer function variable such functions are called closure function.\n",
    "def add_to_fun(val1):\n",
    "    def add_fun(val2):\n",
    "        return val1+val2\n",
    "    return add_fun\n",
    "add_fun=add_to_fun(5)\n",
    "add_fun(4) #print(add_fun(4))"
   ]
  },
  {
   "cell_type": "code",
   "execution_count": 3,
   "id": "7bcb263a",
   "metadata": {},
   "outputs": [
    {
     "name": "stdout",
     "output_type": "stream",
     "text": [
      "python for fun\n"
     ]
    }
   ],
   "source": [
    "def outer_fun():\n",
    "    msg=\"python for fun\"\n",
    "    def inner_fun():\n",
    "        print(msg)\n",
    "    return inner_fun()\n",
    "outer_fun()\n",
    "        "
   ]
  },
  {
   "cell_type": "code",
   "execution_count": 5,
   "id": "f8df2025",
   "metadata": {},
   "outputs": [
    {
     "name": "stdout",
     "output_type": "stream",
     "text": [
      "python for fun\n",
      "None\n"
     ]
    }
   ],
   "source": [
    "def outer_fun():\n",
    "    msg=\"python for fun\"\n",
    "    def inner_fun():\n",
    "        print(msg)\n",
    "    return inner_fun()\n",
    "new_fun=outer_fun\n",
    "print(new_fun())\n",
    "        "
   ]
  },
  {
   "cell_type": "code",
   "execution_count": 1,
   "id": "19297841",
   "metadata": {},
   "outputs": [
    {
     "name": "stdout",
     "output_type": "stream",
     "text": [
      "python for fun\n",
      "None\n"
     ]
    }
   ],
   "source": [
    "def outer_fun():\n",
    "    msg=\"python for fun\"\n",
    "    def inner_fun():\n",
    "        print(msg)\n",
    "    return inner_fun\n",
    "new_fun=outer_fun()\n",
    "print(new_fun())\n",
    "        "
   ]
  },
  {
   "cell_type": "code",
   "execution_count": 3,
   "id": "03cf0c7e",
   "metadata": {},
   "outputs": [
    {
     "ename": "NameError",
     "evalue": "name 'new_fun_name_' is not defined",
     "output_type": "error",
     "traceback": [
      "\u001b[1;31m---------------------------------------------------------------------------\u001b[0m",
      "\u001b[1;31mNameError\u001b[0m                                 Traceback (most recent call last)",
      "\u001b[1;32m~\\AppData\\Local\\Temp/ipykernel_9052/1500149855.py\u001b[0m in \u001b[0;36m<module>\u001b[1;34m\u001b[0m\n\u001b[0;32m      5\u001b[0m     \u001b[1;32mreturn\u001b[0m \u001b[0minner_fun\u001b[0m\u001b[1;33m\u001b[0m\u001b[1;33m\u001b[0m\u001b[0m\n\u001b[0;32m      6\u001b[0m \u001b[0mnew_fun\u001b[0m\u001b[1;33m=\u001b[0m\u001b[0mouter_fun\u001b[0m\u001b[1;33m(\u001b[0m\u001b[1;33m)\u001b[0m\u001b[1;33m\u001b[0m\u001b[1;33m\u001b[0m\u001b[0m\n\u001b[1;32m----> 7\u001b[1;33m \u001b[0mnew_fun_name_\u001b[0m\u001b[1;33m\u001b[0m\u001b[1;33m\u001b[0m\u001b[0m\n\u001b[0m\u001b[0;32m      8\u001b[0m \u001b[1;33m\u001b[0m\u001b[0m\n",
      "\u001b[1;31mNameError\u001b[0m: name 'new_fun_name_' is not defined"
     ]
    }
   ],
   "source": [
    "def outer_fun():\n",
    "    msg=\"python for fun\"\n",
    "    def inner_fun():\n",
    "        print(msg)\n",
    "    return inner_fun\n",
    "new_fun=outer_fun()\n",
    "new_fun._name_\n",
    "        "
   ]
  },
  {
   "cell_type": "markdown",
   "id": "2a37b305",
   "metadata": {},
   "source": [
    "# TO HIDE THINGS/IMPLEMENTATIONS OF FUNCTIONS"
   ]
  },
  {
   "cell_type": "code",
   "execution_count": 4,
   "id": "71cf1d50",
   "metadata": {},
   "outputs": [
    {
     "data": {
      "text/plain": [
       "2.5"
      ]
     },
     "execution_count": 4,
     "metadata": {},
     "output_type": "execute_result"
    }
   ],
   "source": [
    "def div_op(a,b):\n",
    "    return a/b\n",
    "div_op(5,2)   #print(div_op(5,2))"
   ]
  },
  {
   "cell_type": "markdown",
   "id": "8b544d8e",
   "metadata": {},
   "source": [
    "# DECORATOR-@"
   ]
  },
  {
   "cell_type": "code",
   "execution_count": 5,
   "id": "e1240b75",
   "metadata": {},
   "outputs": [],
   "source": [
    "def check_div_op(func):\n",
    "    def inside(a,b):\n",
    "        if b==0:\n",
    "            print(\"cannot divide by zero\")\n",
    "            return\n",
    "        func(a,b)\n",
    "    return inside"
   ]
  },
  {
   "cell_type": "code",
   "execution_count": 6,
   "id": "e53c3036",
   "metadata": {},
   "outputs": [
    {
     "name": "stdout",
     "output_type": "stream",
     "text": [
      "cannot divide by zero\n"
     ]
    }
   ],
   "source": [
    "@check_div_op\n",
    "def div_op(a,b):\n",
    "    return a/b\n",
    "div_op(5,0)"
   ]
  },
  {
   "cell_type": "code",
   "execution_count": 7,
   "id": "f2f93276",
   "metadata": {},
   "outputs": [
    {
     "name": "stdout",
     "output_type": "stream",
     "text": [
      "[25, 4, 121, 36, 64]\n"
     ]
    }
   ],
   "source": [
    "def sq_num(a):\n",
    "    res = []\n",
    "    for i in a:\n",
    "        res.append(i**2)\n",
    "    return res\n",
    "a=[5,2,11,6,8]\n",
    "print(sq_num(a))"
   ]
  },
  {
   "cell_type": "code",
   "execution_count": 8,
   "id": "032bb36a",
   "metadata": {},
   "outputs": [
    {
     "name": "stdout",
     "output_type": "stream",
     "text": [
      "<generator object sq_num at 0x0000024415B37970>\n"
     ]
    }
   ],
   "source": [
    "###generator\n",
    "def sq_num(a):\n",
    "    res = []\n",
    "    for i in a:\n",
    "        yield(i**2)\n",
    "    return res\n",
    "a=[5,2,11,6,8]\n",
    "print(sq_num(a))"
   ]
  },
  {
   "cell_type": "code",
   "execution_count": 9,
   "id": "f04696ac",
   "metadata": {},
   "outputs": [
    {
     "name": "stdout",
     "output_type": "stream",
     "text": [
      "25\n"
     ]
    }
   ],
   "source": [
    "def sq_num(a):\n",
    "    res = []\n",
    "    for i in a:\n",
    "        yield(i**2)\n",
    "        return res\n",
    "a=[5,2,11,6,8]\n",
    "print(next(sq_num(a)))"
   ]
  },
  {
   "cell_type": "code",
   "execution_count": 10,
   "id": "8116ca1b",
   "metadata": {},
   "outputs": [
    {
     "name": "stdout",
     "output_type": "stream",
     "text": [
      "25\n",
      "4\n",
      "121\n",
      "36\n"
     ]
    }
   ],
   "source": [
    "def sq_num(a):\n",
    "    res = []\n",
    "    for i in a:\n",
    "        yield(i**2)\n",
    "a=sq_num([5,2,11,6,8])\n",
    "print(next(a))\n",
    "print(next(a))\n",
    "print(next(a))\n",
    "print(next(a))"
   ]
  },
  {
   "cell_type": "code",
   "execution_count": 11,
   "id": "81a2866a",
   "metadata": {},
   "outputs": [
    {
     "ename": "ZeroDivisionError",
     "evalue": "division by zero",
     "output_type": "error",
     "traceback": [
      "\u001b[1;31m---------------------------------------------------------------------------\u001b[0m",
      "\u001b[1;31mZeroDivisionError\u001b[0m                         Traceback (most recent call last)",
      "\u001b[1;32m~\\AppData\\Local\\Temp/ipykernel_9052/498947578.py\u001b[0m in \u001b[0;36m<module>\u001b[1;34m\u001b[0m\n\u001b[0;32m      1\u001b[0m \u001b[0ma\u001b[0m\u001b[1;33m=\u001b[0m\u001b[1;36m5\u001b[0m\u001b[1;33m\u001b[0m\u001b[1;33m\u001b[0m\u001b[0m\n\u001b[0;32m      2\u001b[0m \u001b[0mb\u001b[0m\u001b[1;33m=\u001b[0m\u001b[1;36m0\u001b[0m\u001b[1;33m\u001b[0m\u001b[1;33m\u001b[0m\u001b[0m\n\u001b[1;32m----> 3\u001b[1;33m \u001b[0mprint\u001b[0m\u001b[1;33m(\u001b[0m\u001b[0ma\u001b[0m\u001b[1;33m/\u001b[0m\u001b[0mb\u001b[0m\u001b[1;33m)\u001b[0m\u001b[1;33m\u001b[0m\u001b[1;33m\u001b[0m\u001b[0m\n\u001b[0m\u001b[0;32m      4\u001b[0m \u001b[0mprint\u001b[0m\u001b[1;33m(\u001b[0m\u001b[1;34m\"well done\"\u001b[0m\u001b[1;33m)\u001b[0m\u001b[1;33m\u001b[0m\u001b[1;33m\u001b[0m\u001b[0m\n",
      "\u001b[1;31mZeroDivisionError\u001b[0m: division by zero"
     ]
    }
   ],
   "source": [
    "a=5\n",
    "b=0\n",
    "print(a/b)\n",
    "print(\"well done\")"
   ]
  },
  {
   "cell_type": "code",
   "execution_count": 12,
   "id": "27fd7985",
   "metadata": {},
   "outputs": [
    {
     "name": "stdout",
     "output_type": "stream",
     "text": [
      "division by zero\n",
      "Well DONE\n"
     ]
    }
   ],
   "source": [
    "###CAPTION HANDLING\n",
    "a=5\n",
    "b=0\n",
    "try:\n",
    "    print(a/b)\n",
    "except Exception as e:\n",
    "    print(e)\n",
    "print(\"Well DONE\")"
   ]
  },
  {
   "cell_type": "code",
   "execution_count": 13,
   "id": "a8c3231b",
   "metadata": {},
   "outputs": [
    {
     "name": "stdout",
     "output_type": "stream",
     "text": [
      "Enter a number:6\n",
      "Guess greater no.\n"
     ]
    }
   ],
   "source": [
    "#GUESS THE NUMBER GAME(GUI)\n",
    "num=1\n",
    "guess=int(input(\"Enter a number:\"))\n",
    "if guess<num:\n",
    "    print(\"Guess Lesser No.\")\n",
    "if guess>num:\n",
    "    print(\"Guess greater no.\")\n",
    "else:\n",
    "    print(\"You won a ipsd\")"
   ]
  },
  {
   "cell_type": "code",
   "execution_count": 14,
   "id": "6c61056c",
   "metadata": {},
   "outputs": [
    {
     "name": "stdout",
     "output_type": "stream",
     "text": [
      "Enter a number:6\n",
      "Guess greater no.\n",
      "Enter a number:1\n",
      "You won an ipsd\n"
     ]
    }
   ],
   "source": [
    "num=1\n",
    "guess=int(input(\"Enter a number:\"))\n",
    "while guess!=num:\n",
    "    if guess<num:\n",
    "        print(\"Guess lesser no.\")\n",
    "    elif guess>num:\n",
    "        print(\"Guess greater no.\")\n",
    "        guess=int(input(\"Enter a number:\"))\n",
    "print(\"You won an ipsd\")"
   ]
  },
  {
   "cell_type": "code",
   "execution_count": null,
   "id": "a42599d5",
   "metadata": {},
   "outputs": [
    {
     "name": "stdout",
     "output_type": "stream",
     "text": [
      "Enter a number:2\n",
      "your guess is wrong...try again!\n",
      "Enter a number:3\n",
      "your guess is wrong...try again!\n"
     ]
    }
   ],
   "source": [
    "from random import randint\n",
    "num=randint(1,5)\n",
    "guess=int(input(\"Enter a number:\"))\n",
    "while guess!=num:\n",
    "    print(\"your guess is wrong...try again!\")\n",
    "    guess=int(input(\"Enter a number:\"))\n",
    "print(\"You won an ipsd\")"
   ]
  },
  {
   "cell_type": "code",
   "execution_count": null,
   "id": "66fcdf01",
   "metadata": {},
   "outputs": [],
   "source": [
    "###GUESS THE NUMBER GAME(GUI)\n",
    "num=1\n",
    "guess=int(input(\"Enter a number:\"))\n",
    "while guess!=num:\n",
    "    print(\"Your guess is wrong...try again\")\n",
    "    guess=int(input(\"Enter a number:\"))\n",
    "print(\"You won an ipsd\")"
   ]
  },
  {
   "cell_type": "code",
   "execution_count": null,
   "id": "5aa56e5f",
   "metadata": {},
   "outputs": [],
   "source": []
  }
 ],
 "metadata": {
  "kernelspec": {
   "display_name": "Python 3 (ipykernel)",
   "language": "python",
   "name": "python3"
  },
  "language_info": {
   "codemirror_mode": {
    "name": "ipython",
    "version": 3
   },
   "file_extension": ".py",
   "mimetype": "text/x-python",
   "name": "python",
   "nbconvert_exporter": "python",
   "pygments_lexer": "ipython3",
   "version": "3.9.7"
  }
 },
 "nbformat": 4,
 "nbformat_minor": 5
}
